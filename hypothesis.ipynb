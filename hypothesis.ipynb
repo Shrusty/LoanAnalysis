{
 "cells": [
  {
   "cell_type": "markdown",
   "id": "082ababe",
   "metadata": {},
   "source": [
    "Q2. Is there a significant difference in loan amounts\n",
    "\n",
    " between married and unmarried applicants?\n",
    " \n",
    "Test: Independent t-test (Welch’s t-test)\n",
    "\n",
    "H₀ (null): Mean loan amount is the same for married and unmarried applicants\n",
    "\n",
    "H₁ (alternate): Mean loan amount is different\n",
    "\n",
    " Interpretation:\n",
    "If p-value < 0.05 → reject H₀ → significant difference exists.\n",
    "\n",
    "If p-value ≥ 0.05 → fail to reject H₀ → no significant difference."
   ]
  },
  {
   "cell_type": "code",
   "execution_count": 5,
   "id": "48a2e038",
   "metadata": {},
   "outputs": [
    {
     "name": "stdout",
     "output_type": "stream",
     "text": [
      "1. Married vs Unmarried LoanAmount\n",
      "t-statistic = 3.5298, p-value = 0.0005\n",
      "→ Significant difference\n",
      "\n"
     ]
    },
    {
     "name": "stderr",
     "output_type": "stream",
     "text": [
      "C:\\Users\\Shrusty Raj\\AppData\\Local\\Temp\\ipykernel_17160\\4080038171.py:11: SettingWithCopyWarning: \n",
      "A value is trying to be set on a copy of a slice from a DataFrame.\n",
      "Try using .loc[row_indexer,col_indexer] = value instead\n",
      "\n",
      "See the caveats in the documentation: https://pandas.pydata.org/pandas-docs/stable/user_guide/indexing.html#returning-a-view-versus-a-copy\n",
      "  df_ht['Married'] = df_ht['Married'].map({'Yes': 1, 'No': 0})\n"
     ]
    }
   ],
   "source": [
    "import pandas as pd\n",
    "from scipy.stats import ttest_ind\n",
    "\n",
    "# Step 1: Load the test dataset (from your earlier upload)\n",
    "df = pd.read_csv('test_Y3wMUE5_7gLdaTN.csv')\n",
    "\n",
    "# Step 2: Drop rows with missing values in required columns\n",
    "df_ht = df.dropna(subset=['Married', 'LoanAmount', 'Credit_History'])\n",
    "\n",
    "# Step 3: Convert 'Married' to binary\n",
    "df_ht['Married'] = df_ht['Married'].map({'Yes': 1, 'No': 0})\n",
    "\n",
    "# --- Hypothesis 1: Married vs Unmarried Loan Amount ---\n",
    "loan_married = df_ht[df_ht['Married'] == 1]['LoanAmount']\n",
    "loan_unmarried = df_ht[df_ht['Married'] == 0]['LoanAmount']\n",
    "\n",
    "tstat1, pval1 = ttest_ind(loan_married, loan_unmarried, equal_var=False)\n",
    "\n",
    "print(\"1. Married vs Unmarried LoanAmount\")\n",
    "print(f\"t-statistic = {tstat1:.4f}, p-value = {pval1:.4f}\")\n",
    "print(\"→ Significant difference\" if pval1 < 0.05 else \"→ No significant difference\")\n",
    "print()\n",
    "\n",
    "# --- Hypothesis 2: Credit History vs Loan Amount ---\n",
    "loan_ch1 = df_ht[df_ht['Credit_History'] == 1]['LoanAmount']\n",
    "loan_ch0 = df_ht[df_ht['Credit_History'] == 0]['LoanAmount']\n",
    "\n",
    "tstat2, pval2 = ttest_ind(loan_ch1, loan_ch0, equal_var=False)\n",
    "\n",
    "\n"
   ]
  }
 ],
 "metadata": {
  "kernelspec": {
   "display_name": ".venv",
   "language": "python",
   "name": "python3"
  },
  "language_info": {
   "codemirror_mode": {
    "name": "ipython",
    "version": 3
   },
   "file_extension": ".py",
   "mimetype": "text/x-python",
   "name": "python",
   "nbconvert_exporter": "python",
   "pygments_lexer": "ipython3",
   "version": "3.11.6"
  }
 },
 "nbformat": 4,
 "nbformat_minor": 5
}
